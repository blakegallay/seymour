{
 "cells": [
  {
   "cell_type": "code",
   "execution_count": 13,
   "metadata": {},
   "outputs": [],
   "source": [
    "# Here I try to fix some of the problem's I've identified with newspaper3k\n",
    "import newspaper\n",
    "from newspaper import Article\n",
    "\n",
    "import re\n",
    "from os import path\n",
    "import string\n",
    "\n",
    "from newspaper3k_fixes import get_authors, get_keywords"
   ]
  },
  {
   "cell_type": "code",
   "execution_count": 14,
   "metadata": {},
   "outputs": [
    {
     "name": "stdout",
     "output_type": "stream",
     "text": [
      "Original: ['Paul Steinhauser', 'Paul Steinhauser Is A Politics Reporter Based In New Hampshire.']\n",
      "\n"
     ]
    }
   ],
   "source": [
    "# Problem 1: Newspaper3k does not properly fetch the authors for this article (demonstrated in ./newspaper3k-demo.ipynb)\n",
    "# it gets the author's bio when it shouldn't\n",
    "url = \"https://www.foxnews.com/politics/biden-calls-supreme-court-daca-ruling-a-victory-vows-to-make-program-permanent\"\n",
    "article = Article(url)\n",
    "Article.download(article)\n",
    "\n",
    "article.parse()\n",
    "print(f\"Original: {article.authors}\\n\")"
   ]
  },
  {
   "cell_type": "code",
   "execution_count": 15,
   "metadata": {},
   "outputs": [
    {
     "name": "stdout",
     "output_type": "stream",
     "text": [
      "Fix : ['Paul Steinhauser']\n"
     ]
    }
   ],
   "source": [
    "# Problem #1 Fixed: get_authors no longer gives bios\n",
    "print(f\"Fix : {get_authors(article)}\")"
   ]
  },
  {
   "cell_type": "code",
   "execution_count": 16,
   "metadata": {},
   "outputs": [
    {
     "name": "stdout",
     "output_type": "stream",
     "text": [
      "Original: ['young', 'supreme', 'daca', 'ruling', 'biden', 'program', 'permanent', 'calls', 'work', 'justices', 'victory', 'vows', 'trump', 'court', 'president']\n",
      "\n"
     ]
    }
   ],
   "source": [
    "# Problem 2: Newspaper3k does not sort keywords by frequency (it tries, but the code is out-of-date and no longer works)\n",
    "# It also obfuscates the fact that the keywords come from both the headline AND article body. Up to 10 are selected from each,\n",
    "# but there's no way of telling which ones came from where.\n",
    "article.nlp()\n",
    "print(f\"Original: {article.keywords}\\n\")"
   ]
  },
  {
   "cell_type": "code",
   "execution_count": 17,
   "metadata": {},
   "outputs": [
    {
     "name": "stdout",
     "output_type": "stream",
     "text": [
      "Fix : {'text': ['president', 'court', 'trump', 'supreme', 'daca', 'ruling', 'program', 'justices', 'young', 'work'], 'title': ['vows', 'victory', 'supreme', 'ruling', 'program', 'permanent', 'daca', 'court', 'calls', 'biden']}\n"
     ]
    }
   ],
   "source": [
    "# Problem #2 Fixed: keywords are now properly sorted in descending (most frequent -> least frequent) order,\n",
    "#                   and are split up between the title and the body\n",
    "print(f\"Fix : {get_keywords(article)}\")"
   ]
  },
  {
   "cell_type": "code",
   "execution_count": null,
   "metadata": {},
   "outputs": [],
   "source": []
  }
 ],
 "metadata": {
  "kernelspec": {
   "display_name": "Python 3.8.2 64-bit",
   "language": "python",
   "name": "python38264bite4e4a7db0d5e407bb998be95a7f21bc6"
  },
  "language_info": {
   "codemirror_mode": {
    "name": "ipython",
    "version": 3
   },
   "file_extension": ".py",
   "mimetype": "text/x-python",
   "name": "python",
   "nbconvert_exporter": "python",
   "pygments_lexer": "ipython3",
   "version": "3.8.2"
  }
 },
 "nbformat": 4,
 "nbformat_minor": 4
}
