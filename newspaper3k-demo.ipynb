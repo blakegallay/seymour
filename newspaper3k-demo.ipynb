{
 "cells": [
  {
   "cell_type": "code",
   "execution_count": 1,
   "metadata": {},
   "outputs": [],
   "source": [
    "# A short demonstration of some useful features of newspaper3k\n",
    "import newspaper\n",
    "from newspaper import Article\n",
    "\n",
    "import time"
   ]
  },
  {
   "cell_type": "code",
   "execution_count": 2,
   "metadata": {},
   "outputs": [],
   "source": [
    "# Various testing articles\n",
    "urls = {\n",
    "    \"CNN\": 'https://www.cnn.com/2020/06/18/politics/daca-immigration-supreme-court/index.html',\n",
    "    \"Fox News\": 'https://www.foxnews.com/politics/biden-calls-supreme-court-daca-ruling-a-victory-vows-to-make-program-permanent',\n",
    "    \"NBC News\": 'https://www.nbcnews.com/politics/donald-trump/trump-lashes-out-supreme-court-after-daca-ruling-doesn-t-n1231438',\n",
    "    \"no author listed\": 'https://www.aljazeera.com/news/2020/06/supreme-court-rules-trump-capricious-daca-case-200618135613615.html',\n",
    "    \"poor formatting\": 'https://www.natlawreview.com/article/daca-back-now-supreme-court-reverses-trump-administration-s-refusal-to-honor'\n",
    "}"
   ]
  },
  {
   "cell_type": "markdown",
   "metadata": {},
   "source": [
    "## Loading and processing articles"
   ]
  },
  {
   "cell_type": "code",
   "execution_count": 3,
   "metadata": {},
   "outputs": [
    {
     "name": "stdout",
     "output_type": "stream",
     "text": [
      "newspaper3k articles have type <class 'newspaper.article.Article'>\n",
      "It took 3.504413366317749 seconds to download 5 articles.\n"
     ]
    }
   ],
   "source": [
    "articles = {k: Article(v) for k, v in urls.items()}\n",
    "print(f\"newspaper3k articles have type {type(articles['CNN'])}\")\n",
    "\n",
    "start = time.time()\n",
    "for k, v in articles.items():\n",
    "    Article.download(v)\n",
    "end = time.time()\n",
    "print(f\"It took {end - start} seconds to download {len(articles)} articles.\")"
   ]
  },
  {
   "cell_type": "code",
   "execution_count": 4,
   "metadata": {},
   "outputs": [
    {
     "name": "stdout",
     "output_type": "stream",
     "text": [
      "It took 0.5623083114624023 seconds to parse 5 articles.\n"
     ]
    }
   ],
   "source": [
    "# Article.parse() processes an article, mostly serving to find and characterize meta-data\n",
    "# The following useful fields become available after parsing:\n",
    "# title, description, authors, tags, and all fields prefaced by 'meta_'\n",
    "\n",
    "start = time.time()\n",
    "for k, v in articles.items():\n",
    "    v.parse()\n",
    "end = time.time()\n",
    "print(f\"It took {end - start} seconds to parse {len(articles)} articles.\")"
   ]
  },
  {
   "cell_type": "code",
   "execution_count": 5,
   "metadata": {},
   "outputs": [
    {
     "name": "stdout",
     "output_type": "stream",
     "text": [
      "It took 0.6322817802429199 seconds to perform NLP on 5 articles.\n"
     ]
    }
   ],
   "source": [
    "# Article.nlp() performs NLP on an article.\n",
    "# The following fields become available after this step:\n",
    "# keywords, summary\n",
    "\n",
    "start = time.time()\n",
    "for k, v in articles.items():\n",
    "    v.nlp()\n",
    "end = time.time()\n",
    "print(f\"It took {end - start} seconds to perform NLP on {len(articles)} articles.\")"
   ]
  },
  {
   "cell_type": "markdown",
   "metadata": {},
   "source": [
    "## Meta-Data"
   ]
  },
  {
   "cell_type": "code",
   "execution_count": 6,
   "metadata": {
    "scrolled": true
   },
   "outputs": [
    {
     "name": "stdout",
     "output_type": "stream",
     "text": [
      "viewport : width=device-width, initial-scale=1.0, minimum-scale=1.0\n",
      "\n",
      "section : politics\n",
      "\n",
      "referrer : unsafe-url\n",
      "\n",
      "og : {'pubdate': '2020-06-18T14:07:23Z', 'url': 'https://www.cnn.com/2020/06/18/politics/daca-immigration-supreme-court/index.html', 'title': 'Supreme Court blocks Trump from ending DACA', 'description': \"The Supreme Court on Thursday blocked the Trump administration's attempt to end Deferred Action for Childhood Arrivals, an Obama-era program that protects hundreds of thousands of immigrants brought to the US as children from deportation.\", 'site_name': 'CNN', 'type': 'article', 'image': {'identifier': 'https://cdn.cnn.com/cnnnext/dam/assets/191112122425-02-daca-scotus-rally-1112-super-tease.jpg', 'width': 1100, 'height': 619}}\n",
      "\n",
      "pubdate : 2020-06-18T14:07:23Z\n",
      "\n",
      "lastmod : 2020-06-18T22:52:13Z\n",
      "\n",
      "author : Ariane de Vogue, Devan Cole and Jamie Ehrlich, CNN\n",
      "\n",
      "article : {'author': 'https://www.facebook.com/Ariane-de-Vogue-1005310649532336', 'opinion': 'false', 'content-tier': 'free'}\n",
      "\n",
      "twitter : {'title': 'Supreme Court blocks Trump from ending DACA', 'description': \"The Supreme Court on Thursday blocked the Trump administration's attempt to end Deferred Action for Childhood Arrivals, an Obama-era program that protects hundreds of thousands of immigrants brought to the US as children from deportation.\", 'card': 'summary_large_image', 'image': 'https://cdn.cnn.com/cnnnext/dam/assets/191112122425-02-daca-scotus-rally-1112-super-tease.jpg'}\n",
      "\n",
      "description : The Supreme Court on Thursday blocked the Trump administration's attempt to end Deferred Action for Childhood Arrivals, an Obama-era program that protects hundreds of thousands of immigrants brought to the US as children from deportation.\n",
      "\n",
      "keywords : politics, Supreme Court blocks Trump from ending DACA - CNNPolitics\n",
      "\n",
      "thumbnail : https://cdn.cnn.com/cnnnext/dam/assets/191112122425-02-daca-scotus-rally-1112-super-tease.jpg\n",
      "\n",
      "vr : {'canonical': 'https://www.cnn.com/2020/06/18/politics/daca-immigration-supreme-court/index.html'}\n",
      "\n",
      "fb : {'app_id': 80401312489, 'pages': '5550296508,18793419640'}\n",
      "\n",
      "template-top : politics,art-vid-vls-col,col-politics-of-the-day\n",
      "\n"
     ]
    }
   ],
   "source": [
    "# Example of meta-data found in the HTML of an article web-page\n",
    "cnn_article = articles['CNN']\n",
    "for k, v in cnn_article.meta_data.items():\n",
    "    print(f\"{k} : {v}\\n\")"
   ]
  },
  {
   "cell_type": "markdown",
   "metadata": {},
   "source": [
    "### Authors"
   ]
  },
  {
   "cell_type": "code",
   "execution_count": 7,
   "metadata": {},
   "outputs": [
    {
     "name": "stdout",
     "output_type": "stream",
     "text": [
      "CNN : ['Ariane De Vogue', 'Devan Cole', 'Jamie Ehrlich']\n",
      "\n",
      "Fox News : ['Paul Steinhauser', 'Paul Steinhauser Is A Politics Reporter Based In New Hampshire.']\n",
      "\n",
      "NBC News : ['Allan Smith', 'Allan Smith Is A Political Reporter For Nbc News.']\n",
      "\n",
      "no author listed : []\n",
      "\n",
      "poor formatting : ['Article By']\n",
      "\n"
     ]
    }
   ],
   "source": [
    "# Author identification\n",
    "for k, v in articles.items():\n",
    "    print(f\"{k} : {v.authors}\\n\")"
   ]
  },
  {
   "cell_type": "markdown",
   "metadata": {},
   "source": [
    "#### Issues:\n",
    "* Sometimes an author's bio is found instead of their name\n",
    "* Nonsense strings are sometimes fetched from poorly-formatted articles"
   ]
  },
  {
   "cell_type": "markdown",
   "metadata": {},
   "source": [
    "### Keywords"
   ]
  },
  {
   "cell_type": "code",
   "execution_count": 8,
   "metadata": {},
   "outputs": [
    {
     "name": "stdout",
     "output_type": "stream",
     "text": [
      "CNN : ['court', 'blocks', 'decision', 'ending', 'program', 'dreamers', 'congress', 'daca', 'roberts', 'supreme', 'administration', 'trump']\n",
      "\n",
      "Fox News : ['work', 'calls', 'court', 'president', 'young', 'trump', 'program', 'justices', 'daca', 'ruling', 'victory', 'supreme', 'biden', 'vows', 'permanent']\n",
      "\n",
      "NBC News : ['lashes', 'court', 'doesnt', 'president', 'decision', 'way', 'united', 'daca', 'ruling', 'tweeted', 'supreme', 'trump', 'legal']\n",
      "\n",
      "no author listed : ['capricious', 'court', 'decision', 'immigration', 'trumps', 'rules', 'voters', 'case', 'dreamers', 'daca', 'end', 'supreme', 'trump']\n",
      "\n",
      "poor formatting : ['undocumented', 'federal', 'opinion', 'immigrants', 'tcpa', 'makes', 'honor', 'waste', 'daca', 'supreme', 'deferred', 'refusal', 'reverses', 'various', 'v', 'univ', 'work', 'entered', 'trump']\n",
      "\n"
     ]
    }
   ],
   "source": [
    "# Keywords\n",
    "# newspaper3k finds the most-used words in the article body AND title (>= 10 from each), excluding a custom list of stopwords\n",
    "for k, v in articles.items():\n",
    "    print(f\"{k} : {v.keywords}\\n\")"
   ]
  },
  {
   "cell_type": "markdown",
   "metadata": {},
   "source": [
    "#### Issues:\n",
    "* a bug causes the keywords to NOT be sorted by frequency, but we can fix that. I've been looking into it, and the pipeline is a bit of an unmaintained mess, but there are easy ways to hack it."
   ]
  },
  {
   "cell_type": "markdown",
   "metadata": {},
   "source": [
    "### Summaries"
   ]
  },
  {
   "cell_type": "code",
   "execution_count": 11,
   "metadata": {
    "scrolled": true
   },
   "outputs": [
    {
     "name": "stdout",
     "output_type": "stream",
     "text": [
      "CNN : The opinion is the second time in a week when the Supreme Court -- bolstered with two of President Donald Trump's nominees -- has ruled against the Trump administration.\n",
      "Luz Chavez, a DACA recipient based in Maryland, was at the steps of the Supreme Court when the decision came down Thursday.\n",
      "\"We want to be in the Supreme Court on DACA,\" Trump said.\n",
      "\"I'm happy the Supreme Court upheld DACA to protect Dreamers from the crisis Trump created.\n",
      "\"Today's Supreme Court decision to uphold DACA is a happy end to the cruel uncertainty the Trump administration put these young people through.\n",
      "\n",
      "Fox News : Former Vice President Joe Biden applauded a Supreme Court ruling Thursday that rejected the push by President Trump and his administration to scrap the Obama-era program that offers legal protections to young immigrants who entered the U.S. illegally as children.\n",
      "SUPREME COURT RULES AGAINST TRUMP PUSH TO END DACA PROGRAMAnd Biden vowed that if elected to the White House, he would “immediately work to make it permanent by sending a bill to Congress on day one of my administration.\"\n",
      "Biden, who served eight years as Obama’s vice president, noted that “the joy of today’s victory does not erase the difficult road ahead.\n",
      "READ THE SUPREME COURT RULINGThursday’s ruling was the second blockbuster defeat for the president this week at the hands of the Supreme Court.\n",
      "“These horrible & politically charged decisions coming out of the Supreme Court are shotgun blasts into the face of people that are proud to call themselves Republicans or Conservatives,” Trump tweeted.\n",
      "\n",
      "NBC News : \"These horrible & politically charged decisions coming out of the Supreme Court are shotgun blasts into the face of people that are proud to call themselves Republicans or Conservatives,\" Trump tweeted Thursday.\n",
      "\"Do you get the impression that the Supreme Court doesn’t like me?\"\n",
      "Trump tweeted Thursday.\n",
      "\"The Supreme Court is not willing to give us one, so now we have to start this process all over again.\"\n",
      "\"Today’s DACA ruling gives the White House and Congress the opportunity to do what is right and solve this issue with thoughtful legislation,\" she tweeted.\n",
      "\n",
      "no author listed : In its decision, the court wrote the \"dispute before the Court is not whether DHS may rescind DACA.\n",
      "The decision from Trump's DHS to end #DACA was ruled arbitrary and capricious under the Administrative Procedure Act by #SCOTUS!\n",
      "Trump lashed out at the Supreme Court decision and another on Monday that extended federal employment protections to gay and transgender workers under the 1964 Civil Rights Act.\n",
      "He called the decisions \"horrible and politically charged\" and tweeted, \"Do you get the impression that the Supreme Court doesn't like me?\"\n",
      "\"The president likes to pick a lot of immigration fights, but I think the DACA immigration fight is a bad one for him to be having.\"\n",
      "\n",
      "poor formatting : Thursday, June 18, 2020Well, since I’m sitting here hitting refresh on the SCOTUS page I figured I’d report that the Supreme Court just reversed the Trump administration’s reversal of Obama’s deferred action program for folks that entered the country as kids.\n",
      "Per the Opinion: “Those granted such relief are also eligible for work authorization and various federal benefits.\n",
      "Some 700,000 aliens have availed themselves of this opportunity.”Here’s the opinion: 18-587 Department of Homeland Security v. Regents of Univ.\n",
      "For those interested– the decision makes it clear that Trump can do away with DACA, his administration just didn’t do it right the first time.\n",
      "Haste makes waste and all that.\n",
      "\n"
     ]
    }
   ],
   "source": [
    "# Summaries\n",
    "# newspaper3k does its best to summarize an article. It achieves this by prioritizing sentences which:\n",
    "# * Share many words in common with the title\n",
    "# * Are close to the beginning of the article\n",
    "# * Contain approximately 20 words\n",
    "# * Contain many keywords\n",
    "# * Contain keywords in close promixity to each other\n",
    "# Up to 5 sentences are selected.\n",
    "for k, v in articles.items():\n",
    "    print(f\"{k} : {v.summary}\\n\")"
   ]
  },
  {
   "cell_type": "markdown",
   "metadata": {},
   "source": [
    "#### Issues:\n",
    "* Overall, this seems like the most robust and intelligent feature in the library! We can tweak the weights and scoring algorithm if we want to, though."
   ]
  },
  {
   "cell_type": "markdown",
   "metadata": {},
   "source": [
    "## Other methods & fields"
   ]
  },
  {
   "cell_type": "code",
   "execution_count": 14,
   "metadata": {
    "scrolled": true
   },
   "outputs": [
    {
     "data": {
      "text/plain": [
       "['__class__',\n",
       " '__delattr__',\n",
       " '__dict__',\n",
       " '__dir__',\n",
       " '__doc__',\n",
       " '__eq__',\n",
       " '__format__',\n",
       " '__ge__',\n",
       " '__getattribute__',\n",
       " '__gt__',\n",
       " '__hash__',\n",
       " '__init__',\n",
       " '__init_subclass__',\n",
       " '__le__',\n",
       " '__lt__',\n",
       " '__module__',\n",
       " '__ne__',\n",
       " '__new__',\n",
       " '__reduce__',\n",
       " '__reduce_ex__',\n",
       " '__repr__',\n",
       " '__setattr__',\n",
       " '__sizeof__',\n",
       " '__str__',\n",
       " '__subclasshook__',\n",
       " '__weakref__',\n",
       " 'additional_data',\n",
       " 'article_html',\n",
       " 'authors',\n",
       " 'build',\n",
       " 'build_resource_path',\n",
       " 'canonical_link',\n",
       " 'clean_doc',\n",
       " 'clean_top_node',\n",
       " 'config',\n",
       " 'doc',\n",
       " 'download',\n",
       " 'download_exception_msg',\n",
       " 'download_state',\n",
       " 'extractor',\n",
       " 'fetch_images',\n",
       " 'get_parse_candidate',\n",
       " 'get_resource_path',\n",
       " 'has_top_image',\n",
       " 'html',\n",
       " 'images',\n",
       " 'imgs',\n",
       " 'is_media_news',\n",
       " 'is_parsed',\n",
       " 'is_valid_body',\n",
       " 'is_valid_url',\n",
       " 'keywords',\n",
       " 'link_hash',\n",
       " 'meta_data',\n",
       " 'meta_description',\n",
       " 'meta_favicon',\n",
       " 'meta_img',\n",
       " 'meta_keywords',\n",
       " 'meta_lang',\n",
       " 'movies',\n",
       " 'nlp',\n",
       " 'parse',\n",
       " 'publish_date',\n",
       " 'release_resources',\n",
       " 'set_article_html',\n",
       " 'set_authors',\n",
       " 'set_canonical_link',\n",
       " 'set_html',\n",
       " 'set_imgs',\n",
       " 'set_keywords',\n",
       " 'set_meta_data',\n",
       " 'set_meta_description',\n",
       " 'set_meta_favicon',\n",
       " 'set_meta_img',\n",
       " 'set_meta_keywords',\n",
       " 'set_meta_language',\n",
       " 'set_movies',\n",
       " 'set_reddit_top_img',\n",
       " 'set_summary',\n",
       " 'set_tags',\n",
       " 'set_text',\n",
       " 'set_title',\n",
       " 'set_top_img',\n",
       " 'set_top_img_no_check',\n",
       " 'source_url',\n",
       " 'summary',\n",
       " 'tags',\n",
       " 'text',\n",
       " 'throw_if_not_downloaded_verbose',\n",
       " 'throw_if_not_parsed_verbose',\n",
       " 'title',\n",
       " 'top_image',\n",
       " 'top_img',\n",
       " 'top_node',\n",
       " 'url']"
      ]
     },
     "execution_count": 14,
     "metadata": {},
     "output_type": "execute_result"
    }
   ],
   "source": [
    "dir(articles['CNN'])"
   ]
  },
  {
   "cell_type": "code",
   "execution_count": null,
   "metadata": {},
   "outputs": [],
   "source": []
  }
 ],
 "metadata": {
  "kernelspec": {
   "display_name": "Python 3.8.2 64-bit",
   "language": "python",
   "name": "python38264bit09ad96bb2f3f471a8dc4f669ef23c3db"
  },
  "language_info": {
   "codemirror_mode": {
    "name": "ipython",
    "version": 3
   },
   "file_extension": ".py",
   "mimetype": "text/x-python",
   "name": "python",
   "nbconvert_exporter": "python",
   "pygments_lexer": "ipython3",
   "version": "3.8.2"
  }
 },
 "nbformat": 4,
 "nbformat_minor": 4
}
