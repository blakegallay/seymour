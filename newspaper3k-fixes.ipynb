{
 "cells": [
  {
   "cell_type": "code",
   "execution_count": 60,
   "metadata": {},
   "outputs": [],
   "source": [
    "# Here I try to fix some of the problem's I've identified with newspaper3k\n",
    "import newspaper\n",
    "from newspaper import Article\n",
    "\n",
    "import re\n",
    "from os import path\n",
    "import string"
   ]
  },
  {
   "cell_type": "code",
   "execution_count": 75,
   "metadata": {},
   "outputs": [
    {
     "name": "stdout",
     "output_type": "stream",
     "text": [
      "authors: ['Paul Steinhauser', 'Paul Steinhauser Is A Politics Reporter Based In New Hampshire.']\n"
     ]
    }
   ],
   "source": [
    "# Problem 1: Newspaper3k does not properly fetch the authors for this article (demonstrated in ./newspaper3k-demo.ipynb)\n",
    "url = \"https://www.foxnews.com/politics/biden-calls-supreme-court-daca-ruling-a-victory-vows-to-make-program-permanent\"\n",
    "article = Article(url)\n",
    "Article.download(article)\n",
    "\n",
    "article.parse()\n",
    "print(f\"authors: {article.authors}\")"
   ]
  },
  {
   "cell_type": "code",
   "execution_count": 81,
   "metadata": {},
   "outputs": [
    {
     "name": "stdout",
     "output_type": "stream",
     "text": [
      "keywords: ['permanent', 'calls', 'justices', 'young', 'vows', 'supreme', 'court', 'work', 'president', 'ruling', 'daca', 'biden', 'trump', 'program', 'victory']\n"
     ]
    }
   ],
   "source": [
    "# Problem 2: Newspaper3k does not sort keywords by frequency (it tries, but the code is out-of-date and no longer works)\n",
    "# It also obfuscates the fact that the keywords come from both the headline AND article body. Up to 10 are selected from each,\n",
    "# but there's no way of telling which ones came from where.\n",
    "article.nlp()\n",
    "print(f\"keywords: {article.keywords}\")"
   ]
  },
  {
   "cell_type": "markdown",
   "metadata": {},
   "source": [
    "### Here are my attempts at fixing the above problems:\n",
    "#### The code below is ripped from newspaper3k, with small bug fixes applied"
   ]
  },
  {
   "cell_type": "code",
   "execution_count": 70,
   "metadata": {},
   "outputs": [],
   "source": [
    "def getElementsByTag(\n",
    "        node, tag=None, attr=None, value=None, childs=False, use_regex=False) -> list:\n",
    "    NS = None\n",
    "    # selector = tag or '*'\n",
    "    selector = 'descendant-or-self::%s' % (tag or '*')\n",
    "    if attr and value:\n",
    "        if use_regex:\n",
    "            NS = {\"re\": \"http://exslt.org/regular-expressions\"}\n",
    "            selector = '%s[re:test(@%s, \"%s\", \"i\")]' % (selector, attr, value)\n",
    "        else:\n",
    "            trans = 'translate(@%s, \"%s\", \"%s\")' % (attr,\n",
    "                                                    string.ascii_uppercase, string.ascii_lowercase)\n",
    "            # ----------------------------------------------------------------------\n",
    "            # HERE IS THE EXTREMELY NAIVE FIX TO PROBLEM #1:\n",
    "            # JUST EXCLUDE ANYTHING THAT INCLUDES THE PHRASE \"BIO\"\n",
    "            # ----------------------------------------------------------------------\n",
    "            selector = '%s[contains(%s, \"%s\") and not(contains(%s, \"bio\"))]' % (\n",
    "                selector, trans, value.lower(), trans)\n",
    "\n",
    "    elems = node.xpath(selector, namespaces=NS)\n",
    "    # remove the root node\n",
    "    # if we have a selection tag\n",
    "    if node in elems and (tag or childs):\n",
    "        elems.remove(node)\n",
    "    return elems"
   ]
  },
  {
   "cell_type": "code",
   "execution_count": 115,
   "metadata": {},
   "outputs": [],
   "source": [
    "def get_authors(article):\n",
    "    \"\"\"Fetch the authors of the article, return as a list\n",
    "    Only works for english articles\n",
    "    \"\"\"\n",
    "    doc = article.clean_doc\n",
    "\n",
    "    _digits = re.compile('\\d')\n",
    "\n",
    "    def contains_digits(d):\n",
    "        return bool(_digits.search(d))\n",
    "\n",
    "    def uniqify_list(lst):\n",
    "        \"\"\"Remove duplicates from provided list but maintain original order.\n",
    "          Derived from http://www.peterbe.com/plog/uniqifiers-benchmark\n",
    "        \"\"\"\n",
    "        seen = {}\n",
    "        result = []\n",
    "        for item in lst:\n",
    "            if item.lower() in seen:\n",
    "                continue\n",
    "            seen[item.lower()] = 1\n",
    "            result.append(item.title())\n",
    "        return result\n",
    "\n",
    "    def parse_byline(search_str):\n",
    "        \"\"\"\n",
    "        Takes a candidate line of html or text and\n",
    "        extracts out the name(s) in list form:\n",
    "        >>> parse_byline('<div>By: <strong>Lucas Ou-Yang</strong>,<strong>Alex Smith</strong></div>')\n",
    "        ['Lucas Ou-Yang', 'Alex Smith']\n",
    "        \"\"\"\n",
    "        # Remove HTML boilerplate\n",
    "        search_str = re.sub('<[^<]+?>', '', search_str)\n",
    "\n",
    "        # Remove original By statement\n",
    "        search_str = re.sub('[bB][yY][\\:\\s]|[fF]rom[\\:\\s]', '', search_str)\n",
    "\n",
    "        search_str = search_str.strip()\n",
    "\n",
    "        # Chunk the line by non alphanumeric tokens (few name exceptions)\n",
    "        # >>> re.split(\"[^\\w\\'\\-\\.]\", \"Tyler G. Jones, Lucas Ou, Dean O'Brian and Ronald\")\n",
    "        # ['Tyler', 'G.', 'Jones', '', 'Lucas', 'Ou', '', 'Dean', \"O'Brian\", 'and', 'Ronald']\n",
    "        name_tokens = re.split(\"[^\\w\\'\\-\\.]\", search_str)\n",
    "        name_tokens = [s.strip() for s in name_tokens]\n",
    "\n",
    "        _authors = []\n",
    "        # List of first, last name tokens\n",
    "        curname = []\n",
    "        delimiters = ['and', ',', '']\n",
    "\n",
    "        for token in name_tokens:\n",
    "            if token in delimiters:\n",
    "                if len(curname) > 0:\n",
    "                    _authors.append(' '.join(curname))\n",
    "                    curname = []\n",
    "\n",
    "            elif not contains_digits(token):\n",
    "                curname.append(token)\n",
    "\n",
    "        # One last check at end\n",
    "        valid_name = (len(curname) >= 2)\n",
    "        if valid_name:\n",
    "            _authors.append(' '.join(curname))\n",
    "\n",
    "        return _authors\n",
    "\n",
    "    # Try 1: Search popular author tags for authors\n",
    "\n",
    "    ATTRS = ['name', 'rel', 'itemprop', 'class', 'id']\n",
    "    VALS = ['author', 'byline', 'dc.creator', 'byl']\n",
    "    matches = []\n",
    "    authors = []\n",
    "\n",
    "    for attr in ATTRS:\n",
    "        for val in VALS:\n",
    "            # found = doc.xpath('//*[@%s=\"%s\"]' % (attr, val))\n",
    "            found = getElementsByTag(doc, attr=attr, value=val)\n",
    "            matches.extend(found)\n",
    "\n",
    "    for match in matches:\n",
    "        content = ''\n",
    "        if match.tag == 'meta':\n",
    "            mm = match.xpath('@content')\n",
    "            if len(mm) > 0:\n",
    "                content = mm[0]\n",
    "        else:\n",
    "            content = match.text or ''\n",
    "        if len(content) > 0:\n",
    "            authors.extend(parse_byline(content))\n",
    "\n",
    "    return uniqify_list(authors)"
   ]
  },
  {
   "cell_type": "code",
   "execution_count": 138,
   "metadata": {},
   "outputs": [],
   "source": [
    "# Loads local stopwords file @ ./stopwords.txt\n",
    "def get_stopwords():\n",
    "    stopwords = set()\n",
    "    stopwordsFile = './stopwords.txt'\n",
    "    with open(stopwordsFile, 'r', encoding='utf-8') as f:\n",
    "        stopwords.update(set([w.strip() for w in f.readlines()]))\n",
    "        \n",
    "    return stopwords\n",
    "\n",
    "def split_words(text):\n",
    "    \"\"\"Split a string into array of words\n",
    "    \"\"\"\n",
    "    try:\n",
    "        text = re.sub(r'[^\\w ]', '', text)  # strip special chars\n",
    "        return [x.strip('.').lower() for x in text.split()]\n",
    "    except TypeError:\n",
    "        return None\n",
    "\n",
    "def keywords(text):\n",
    "    \"\"\"Get the top 10 keywords and their frequency scores ignores blacklisted\n",
    "    words in stopwords, counts the number of occurrences of each word, and\n",
    "    sorts them in reverse natural order (so descending) by number of\n",
    "    occurrences.\n",
    "    \"\"\"\n",
    "    # -------------------------------------------------------\n",
    "    # THIS IS A TANGENTIAL CHANGE - GETTING STOPWORDS HERE\n",
    "    # INSTEAD OF THEM BEING DECLARED AS A PUBLIC VARIABLE EARLIER\n",
    "    # -------------------------------------------------------\n",
    "    stopwords = get_stopwords()\n",
    "    \n",
    "    NUM_KEYWORDS = 10\n",
    "    text = split_words(text)\n",
    "    # of words before removing blacklist words\n",
    "    if text:\n",
    "        num_words = len(text)\n",
    "        text = [x for x in text if x not in stopwords]\n",
    "        freq = {}\n",
    "        for word in text:\n",
    "            if word in freq:\n",
    "                freq[word] += 1\n",
    "            else:\n",
    "                freq[word] = 1\n",
    "\n",
    "        min_size = min(NUM_KEYWORDS, len(freq))\n",
    "        keywords = sorted(freq.items(),\n",
    "                          key=lambda x: (x[1], x[0]),\n",
    "                          reverse=True)\n",
    "        keywords = keywords[:min_size]\n",
    "        keywords = dict((x, y) for x, y in keywords)\n",
    "\n",
    "        for k in keywords:\n",
    "            articleScore = keywords[k] * 1.0 / max(num_words, 1)\n",
    "            keywords[k] = articleScore * 1.5 + 1\n",
    "            \n",
    "        return dict(keywords)\n",
    "    else:\n",
    "        return dict()\n",
    "\n",
    "\n",
    "def get_keywords(article):\n",
    "    text_keyws = list(keywords(article.text).keys())\n",
    "    title_keyws = list(keywords(article.title).keys())\n",
    "    keyws = {\"text\": text_keyws, \"title\": title_keyws}\n",
    "    return keyws"
   ]
  },
  {
   "cell_type": "code",
   "execution_count": 139,
   "metadata": {},
   "outputs": [
    {
     "name": "stdout",
     "output_type": "stream",
     "text": [
      "Original : ['Paul Steinhauser', 'Paul Steinhauser Is A Politics Reporter Based In New Hampshire.']\n",
      "\n",
      "Fix : ['Paul Steinhauser']\n"
     ]
    }
   ],
   "source": [
    "# Problem #1 Fixed: get_authors no longer gives bios\n",
    "print(f\"Original : {article.authors}\\n\\nFix : {get_authors(article)}\")"
   ]
  },
  {
   "cell_type": "code",
   "execution_count": 140,
   "metadata": {},
   "outputs": [
    {
     "name": "stdout",
     "output_type": "stream",
     "text": [
      "Original : ['permanent', 'calls', 'justices', 'young', 'vows', 'supreme', 'court', 'work', 'president', 'ruling', 'daca', 'biden', 'trump', 'program', 'victory']\n",
      "\n",
      "Fix : {'text': ['president', 'court', 'trump', 'supreme', 'daca', 'ruling', 'program', 'justices', 'young', 'work'], 'title': ['vows', 'victory', 'supreme', 'ruling', 'program', 'permanent', 'daca', 'court', 'calls', 'biden']}\n"
     ]
    }
   ],
   "source": [
    "# Problem #2 Fixed: keywords are now properly sorted in descending (most frequent -> least frequent) order,\n",
    "#                   and are split up between the title and the body\n",
    "print(f\"Original : {article.keywords}\\n\\nFix : {get_keywords(article)}\")"
   ]
  },
  {
   "cell_type": "code",
   "execution_count": null,
   "metadata": {},
   "outputs": [],
   "source": []
  }
 ],
 "metadata": {
  "kernelspec": {
   "display_name": "Python 3.8.2 64-bit",
   "language": "python",
   "name": "python38264bite4e4a7db0d5e407bb998be95a7f21bc6"
  },
  "language_info": {
   "codemirror_mode": {
    "name": "ipython",
    "version": 3
   },
   "file_extension": ".py",
   "mimetype": "text/x-python",
   "name": "python",
   "nbconvert_exporter": "python",
   "pygments_lexer": "ipython3",
   "version": "3.8.2"
  }
 },
 "nbformat": 4,
 "nbformat_minor": 4
}
