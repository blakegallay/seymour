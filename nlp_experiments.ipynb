{
 "cells": [
  {
   "cell_type": "code",
   "execution_count": 92,
   "metadata": {},
   "outputs": [],
   "source": [
    "import newspaper\n",
    "from newspaper import Article\n",
    "\n",
    "from newspaper3k_fixes import get_authors, get_keywords\n",
    "\n",
    "import math"
   ]
  },
  {
   "cell_type": "code",
   "execution_count": 14,
   "metadata": {},
   "outputs": [
    {
     "name": "stdout",
     "output_type": "stream",
     "text": [
      "Titles:\n",
      "\n",
      "0 : Supreme Court blocks Trump from ending DACA\n",
      "1 : Biden calls Supreme Court DACA ruling a ‘victory,’ vows to make program ‘permanent’\n",
      "2 : Guy Benson rips Supreme Court DACA decision as a 'travesty that could set a bad precedent'\n",
      "3 : It’s Time to End DACA – It’s Unconstitutional Unless Approved by Congress\n",
      "4 : Trump lashes out at Supreme Court after DACA ruling doesn't go his way\n"
     ]
    }
   ],
   "source": [
    "# A variety of articles with similar/different viewpoints and topics\n",
    "urls = [\n",
    "    # (CNN) Breaking news report on the Supreme Court's DACA decision\n",
    "    'https://www.cnn.com/2020/06/18/politics/daca-immigration-supreme-court/index.html',\n",
    "\n",
    "    # (Fox News) Report on Biden's statement on the decision, which he strongly celebrated\n",
    "    'https://www.foxnews.com/politics/biden-calls-supreme-court-daca-ruling-a-victory-vows-to-make-program-permanent',\n",
    "\n",
    "    # (Fox News) Fox News columnist calling the decision a 'travesty'\n",
    "    'https://www.foxnews.com/media/guy-benson-supreme-court-daca-decision-travesty',\n",
    "\n",
    "    # (The Heritage Foundation) From a conservative foundation, arguing that DACA is unconstitutional\n",
    "    'https://www.heritage.org/courts/commentary/its-time-end-daca-its-unconstitutional-unless-approved-congress',\n",
    "\n",
    "    # (MSNBC) Report on Trump's reaction, described as 'lashing out' after it doesn't 'go his way'\n",
    "    'https://www.nbcnews.com/politics/donald-trump/trump-lashes-out-supreme-court-after-daca-ruling-doesn-t-n1231438',\n",
    "]\n",
    "\n",
    "articles = list(map(Article, urls))\n",
    "for article in articles:\n",
    "    Article.download(article)\n",
    "    article.parse()\n",
    "    \n",
    "print(\"Titles:\\n\")\n",
    "for i, article in enumerate(articles):\n",
    "    print(f\"{i} : {article.title}\")"
   ]
  },
  {
   "cell_type": "code",
   "execution_count": 17,
   "metadata": {},
   "outputs": [],
   "source": [
    "keywords = {}\n",
    "for article in articles:\n",
    "    keywords[article] = get_keywords(article)"
   ]
  },
  {
   "cell_type": "code",
   "execution_count": 26,
   "metadata": {},
   "outputs": [
    {
     "name": "stdout",
     "output_type": "stream",
     "text": [
      "['supreme', 'court', 'blocks', 'trump', 'from ending', 'daca']\n",
      "['biden calls', 'supreme', 'court', 'daca', 'ruling', 'a ‘victory,’ vows to make', 'program', '‘permanent’']\n",
      "['guy', 'benson', 'rips supreme court', 'daca', 'decision', \"as a 'travesty that could set a bad precedent'\"]\n",
      "['it’s time to end', 'daca', '– it’s unconstitutional unless approved by', 'congress']\n",
      "['trump', 'lashes out at', 'supreme', 'court', 'after', 'daca', 'ruling', \"doesn't go his way\"]\n"
     ]
    }
   ],
   "source": [
    "# Split title on keywords\n",
    "\n",
    "for article in articles:\n",
    "    split_title = []\n",
    "\n",
    "    acc = []\n",
    "    for word in article.title.lower().split(\" \"):\n",
    "        if word in keywords[article]['text']:\n",
    "            if acc != []:\n",
    "                split_title.append(\" \".join(acc))\n",
    "            split_title.append(word)\n",
    "            acc = []\n",
    "        else:\n",
    "            acc.append(word)\n",
    "            \n",
    "    if(acc != []):\n",
    "        split_title.append(\" \".join(acc))\n",
    "\n",
    "    print(split_title)"
   ]
  },
  {
   "cell_type": "code",
   "execution_count": 113,
   "metadata": {},
   "outputs": [
    {
     "name": "stdout",
     "output_type": "stream",
     "text": [
      "words in the title: ['Biden', 'calls', 'Supreme', 'Court', 'DACA', 'ruling', 'a', '‘victory,’', 'vows', 'to', 'make', 'program', '‘permanent’']\n",
      "\n",
      "start w/ uppercase in title: ['Biden', 'Supreme', 'Court', 'DACA']\n",
      "\n",
      "usually start w/ uppercase in body: ['President', 'Biden', 'Supreme', 'Court', 'Trump', 'DACA', 'COURT', 'I']\n",
      "\n",
      "combining propers: ['Biden', 'calls', 'Supreme Court DACA', 'ruling', 'a', '‘victory,’', 'vows', 'to', 'make', 'program', '‘permanent’']\n"
     ]
    }
   ],
   "source": [
    "# Finding proper nouns\n",
    "article = articles[1]\n",
    "title_words = article.title.split(\" \")\n",
    "print(f\"words in the title: {title_words}\\n\")\n",
    "\n",
    "# Just looking for anything that starts with a capital letter will \n",
    "# also catch the first word in a headline/sentence.\n",
    "uppers = list(filter(lambda w: w[0].isupper(), title_words))\n",
    "print(f\"start w/ uppercase in title: {uppers}\\n\")\n",
    "\n",
    "# So maybe look in the body and see if the first word in the headline\n",
    "# is usually capitalized or not. Exclude words at the start of sentences.\n",
    "body_words = {}\n",
    "for sentence in article.text.split('.'):\n",
    "    sentence = sentence.strip('\\n').replace(',','').split(' ')\n",
    "    \n",
    "    if '' in sentence:\n",
    "        sentence.remove('')\n",
    "        \n",
    "    for word in sentence[1:]:\n",
    "        if word not in body_words:\n",
    "            body_words[word] = {'total': 0, 'starts_with_cap': 0}\n",
    "        body_words[word]['total'] += 1 \n",
    "        if word[0].isupper():\n",
    "            body_words[word]['starts_with_cap'] += 1\n",
    "        \n",
    "propers = []\n",
    "for word in body_words:\n",
    "    if body_words[word]['starts_with_cap'] > math.ceil(body_words[word]['total'] / 2):\n",
    "        propers.append(word)\n",
    "        \n",
    "print(f\"usually start w/ uppercase in body: {propers}\\n\")\n",
    "\n",
    "# Combining multiple proper nouns in a row\n",
    "# There are cases where this totally fails\n",
    "split_title = []\n",
    "combo = []\n",
    "for i, word in enumerate(title_words):\n",
    "    if word in propers:\n",
    "        combo.append(word)\n",
    "    elif word not in propers or i == len(title_words):\n",
    "        if(combo != []):\n",
    "            split_title.append(\" \".join(combo))\n",
    "            combo = []\n",
    "        split_title.append(word)\n",
    "\n",
    "print(f\"combining propers: {split_title}\")"
   ]
  },
  {
   "cell_type": "code",
   "execution_count": 68,
   "metadata": {},
   "outputs": [
    {
     "name": "stderr",
     "output_type": "stream",
     "text": [
      "[nltk_data] Downloading package wordnet to /home/blake/nltk_data...\n",
      "[nltk_data]   Package wordnet is already up-to-date!\n"
     ]
    },
    {
     "data": {
      "text/plain": [
       "True"
      ]
     },
     "execution_count": 68,
     "metadata": {},
     "output_type": "execute_result"
    }
   ],
   "source": [
    "# The Natural Language Toolkit (NLK)\n",
    "import nltk\n",
    "from nltk.corpus import wordnet as wn\n",
    "nltk.download('wordnet')"
   ]
  },
  {
   "cell_type": "code",
   "execution_count": 42,
   "metadata": {},
   "outputs": [
    {
     "name": "stdout",
     "output_type": "stream",
     "text": [
      "amazing:v\n",
      "interesting:v\n",
      "great:n\n",
      "blocks:n\n"
     ]
    }
   ],
   "source": [
    "words = ['amazing', 'interesting', 'great', 'blocks']\n",
    "\n",
    "for w in words:\n",
    "    tmp = wn.synsets(w)[0].pos()\n",
    "    print(w + \":\" + tmp)"
   ]
  },
  {
   "cell_type": "code",
   "execution_count": 82,
   "metadata": {},
   "outputs": [
    {
     "name": "stdout",
     "output_type": "stream",
     "text": [
      "['', 'hello', 'from', 'sdfsd', '']\n"
     ]
    }
   ],
   "source": []
  },
  {
   "cell_type": "code",
   "execution_count": null,
   "metadata": {},
   "outputs": [],
   "source": []
  }
 ],
 "metadata": {
  "kernelspec": {
   "display_name": "Python 3.8.2 64-bit",
   "language": "python",
   "name": "python38264bit09ad96bb2f3f471a8dc4f669ef23c3db"
  },
  "language_info": {
   "codemirror_mode": {
    "name": "ipython",
    "version": 3
   },
   "file_extension": ".py",
   "mimetype": "text/x-python",
   "name": "python",
   "nbconvert_exporter": "python",
   "pygments_lexer": "ipython3",
   "version": "3.8.2"
  }
 },
 "nbformat": 4,
 "nbformat_minor": 4
}
