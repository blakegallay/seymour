{
 "cells": [
  {
   "cell_type": "code",
   "execution_count": 92,
   "metadata": {},
   "outputs": [],
   "source": [
    "import newspaper\n",
    "from newspaper import Article\n",
    "\n",
    "from newspaper3k_fixes import get_authors, get_keywords\n",
    "\n",
    "import math"
   ]
  },
  {
   "cell_type": "markdown",
   "metadata": {},
   "source": [
    "## Here I'm just experimenting with the text in articles, seeing what can be done with simple algorithms/API's"
   ]
  },
  {
   "cell_type": "code",
   "execution_count": 14,
   "metadata": {},
   "outputs": [
    {
     "name": "stdout",
     "output_type": "stream",
     "text": [
      "Titles:\n",
      "\n",
      "0 : Supreme Court blocks Trump from ending DACA\n",
      "1 : Biden calls Supreme Court DACA ruling a ‘victory,’ vows to make program ‘permanent’\n",
      "2 : Guy Benson rips Supreme Court DACA decision as a 'travesty that could set a bad precedent'\n",
      "3 : It’s Time to End DACA – It’s Unconstitutional Unless Approved by Congress\n",
      "4 : Trump lashes out at Supreme Court after DACA ruling doesn't go his way\n"
     ]
    }
   ],
   "source": [
    "# A variety of articles with similar/different viewpoints and topics\n",
    "urls = [\n",
    "    # (CNN) Breaking news report on the Supreme Court's DACA decision\n",
    "    'https://www.cnn.com/2020/06/18/politics/daca-immigration-supreme-court/index.html',\n",
    "\n",
    "    # (Fox News) Report on Biden's statement on the decision, which he strongly celebrated\n",
    "    'https://www.foxnews.com/politics/biden-calls-supreme-court-daca-ruling-a-victory-vows-to-make-program-permanent',\n",
    "\n",
    "    # (Fox News) Fox News columnist calling the decision a 'travesty'\n",
    "    'https://www.foxnews.com/media/guy-benson-supreme-court-daca-decision-travesty',\n",
    "\n",
    "    # (The Heritage Foundation) From a conservative foundation, arguing that DACA is unconstitutional\n",
    "    'https://www.heritage.org/courts/commentary/its-time-end-daca-its-unconstitutional-unless-approved-congress',\n",
    "\n",
    "    # (MSNBC) Report on Trump's reaction, described as 'lashing out' after it doesn't 'go his way'\n",
    "    'https://www.nbcnews.com/politics/donald-trump/trump-lashes-out-supreme-court-after-daca-ruling-doesn-t-n1231438',\n",
    "]\n",
    "\n",
    "articles = list(map(Article, urls))\n",
    "for article in articles:\n",
    "    Article.download(article)\n",
    "    article.parse()\n",
    "    \n",
    "print(\"Titles:\\n\")\n",
    "for i, article in enumerate(articles):\n",
    "    print(f\"{i} : {article.title}\")"
   ]
  },
  {
   "cell_type": "code",
   "execution_count": 17,
   "metadata": {},
   "outputs": [],
   "source": [
    "keywords = {}\n",
    "for article in articles:\n",
    "    keywords[article] = get_keywords(article)"
   ]
  },
  {
   "cell_type": "code",
   "execution_count": 26,
   "metadata": {},
   "outputs": [
    {
     "name": "stdout",
     "output_type": "stream",
     "text": [
      "['supreme', 'court', 'blocks', 'trump', 'from ending', 'daca']\n",
      "['biden calls', 'supreme', 'court', 'daca', 'ruling', 'a ‘victory,’ vows to make', 'program', '‘permanent’']\n",
      "['guy', 'benson', 'rips supreme court', 'daca', 'decision', \"as a 'travesty that could set a bad precedent'\"]\n",
      "['it’s time to end', 'daca', '– it’s unconstitutional unless approved by', 'congress']\n",
      "['trump', 'lashes out at', 'supreme', 'court', 'after', 'daca', 'ruling', \"doesn't go his way\"]\n"
     ]
    }
   ],
   "source": [
    "# Split title on keywords\n",
    "for article in articles:\n",
    "    split_title = []\n",
    "\n",
    "    acc = []\n",
    "    for word in article.title.lower().split(\" \"):\n",
    "        if word in keywords[article]['text']:\n",
    "            if acc != []:\n",
    "                split_title.append(\" \".join(acc))\n",
    "            split_title.append(word)\n",
    "            acc = []\n",
    "        else:\n",
    "            acc.append(word)\n",
    "            \n",
    "    if(acc != []):\n",
    "        split_title.append(\" \".join(acc))\n",
    "\n",
    "    print(split_title)"
   ]
  },
  {
   "cell_type": "markdown",
   "metadata": {},
   "source": [
    "### Title stuff and proper nouns"
   ]
  },
  {
   "cell_type": "code",
   "execution_count": 199,
   "metadata": {},
   "outputs": [
    {
     "name": "stdout",
     "output_type": "stream",
     "text": [
      "words in the title: ['Biden', 'calls', 'Supreme', 'Court', 'DACA', 'ruling', 'a', '‘victory,’', 'vows', 'to', 'make', 'program', '‘permanent’']\n",
      "\n",
      "start w/ uppercase in title: ['Biden', 'Supreme', 'Court', 'DACA']\n",
      "\n",
      "usually start w/ uppercase in body: ['President', 'Biden', 'Supreme', 'Court', 'Trump', 'DACA', 'COURT', 'I']\n",
      "\n",
      "naive combining propers: ['Biden', 'calls', 'Supreme Court DACA', 'ruling', 'a', '‘victory,’', 'vows', 'to', 'make', 'program', '‘permanent’']\n",
      "\n",
      "commonly paired propers: [('Supreme', 'Court'), ('President', 'Trump')]\n",
      "\n",
      "smarter combining propers: ['Biden', 'calls', 'Supreme Court', 'DACA', 'ruling', 'a', '‘victory,’', 'vows', 'to', 'make', 'program', '‘permanent’']\n",
      "\n"
     ]
    }
   ],
   "source": [
    "# Finding proper nouns\n",
    "article = articles[1]\n",
    "title_words = article.title.split(\" \")\n",
    "print(f\"words in the title: {title_words}\\n\")\n",
    "\n",
    "# Just looking for anything that starts with a capital letter will\n",
    "# also catch the first word in a headline/sentence.\n",
    "uppers = list(filter(lambda w: w[0].isupper(), title_words))\n",
    "print(f\"start w/ uppercase in title: {uppers}\\n\")\n",
    "\n",
    "# So maybe look in the body and see if the first word in the headline\n",
    "# is usually capitalized or not. Exclude words at the start of sentences.\n",
    "word_counts = {}\n",
    "for sentence in article.text.split('.'):\n",
    "    sentence = sentence.strip('\\n').replace(',', '').split(' ')\n",
    "\n",
    "    if '' in sentence:\n",
    "        sentence.remove('')\n",
    "\n",
    "    for word in sentence[1:]:\n",
    "        if word not in word_counts:\n",
    "            word_counts[word] = {'total': 0, 'starts_with_cap': 0}\n",
    "        word_counts[word]['total'] += 1\n",
    "        if word[0].isupper():\n",
    "            word_counts[word]['starts_with_cap'] += 1\n",
    "\n",
    "propers = []\n",
    "for word in word_counts:\n",
    "    if word_counts[word]['starts_with_cap'] > math.ceil(word_counts[word]['total'] / 2):\n",
    "        propers.append(word)\n",
    "\n",
    "print(f\"usually start w/ uppercase in body: {propers}\\n\")\n",
    "\n",
    "# Combining multiple proper nouns in a row\n",
    "# There are cases where this totally fails\n",
    "split_title = []\n",
    "combo = []\n",
    "for i, word in enumerate(title_words):\n",
    "    if word in propers:\n",
    "        combo.append(word)\n",
    "    elif word not in propers or i == len(title_words):\n",
    "        if(combo != []):\n",
    "            split_title.append(\" \".join(combo))\n",
    "            combo = []\n",
    "        split_title.append(word)\n",
    "\n",
    "print(f\"naive combining propers: {split_title}\\n\")\n",
    "\n",
    "# Partial solution:\n",
    "# only combine propers which are almost always seen in that order together\n",
    "# i.e. 'Supreme Court'\n",
    "combos = {}\n",
    "\n",
    "def remove_punct(s):\n",
    "    # ORDERED list of punctuation to remove\n",
    "    to_remove = [',', '.', \"'s\", \"'\"]\n",
    "    for t in to_remove:\n",
    "        s = s.replace(t, '')\n",
    "    return s\n",
    "\n",
    "body_words = article.text.split(\" \")\n",
    "for i, word in enumerate(body_words):\n",
    "    word = remove_punct(word)\n",
    "    combo = []\n",
    "    if word in propers:\n",
    "        for next_word in body_words[i+1:]:\n",
    "            next_word = remove_punct(next_word)\n",
    "            if(next_word in propers):\n",
    "                if(word not in combo):\n",
    "                    combo = [word]\n",
    "                combo.append(next_word)\n",
    "            else:\n",
    "                break\n",
    "        if combo != []:\n",
    "            combo = tuple(combo)\n",
    "            if combo not in combos:\n",
    "                combos[combo] = 1\n",
    "            else:\n",
    "                combos[combo] += 1\n",
    "\n",
    "# This part is a work in progress\n",
    "# The math.floor(.../5) is totally arbitrary, and should be changed\n",
    "to_remove = []\n",
    "for combo, cnt in combos.items():\n",
    "    remove = True\n",
    "    for word in combo:\n",
    "        if cnt > math.floor(word_counts[word]['total'] / 5):\n",
    "            remove = False \n",
    "    if(remove):\n",
    "        to_remove.append(combo)\n",
    "        \n",
    "for combo in to_remove:\n",
    "    del combos[combo]\n",
    "    \n",
    "combos = list(combos.keys())\n",
    "            \n",
    "print(f\"commonly paired propers: {combos}\\n\")\n",
    "\n",
    "# Combining multiple proper nouns in a row (take 2)\n",
    "# Only using the combos in combos\n",
    "split_title = []\n",
    "pieces = []\n",
    "\n",
    "for i, word in enumerate(title_words):\n",
    "    if word in propers:\n",
    "        if all(map(lambda p : (i,word) not in p, pieces)):\n",
    "            piece = [(i, word)]\n",
    "            for j, next_word in enumerate(title_words[i+1:]):\n",
    "                if next_word in propers:\n",
    "                    piece.append((i + 1 + j, next_word))\n",
    "                else:\n",
    "                    break\n",
    "            if(len(piece) == 1 or tuple(map(lambda w : w[1], piece)) in combos):\n",
    "                pieces.append(piece)\n",
    "            else:\n",
    "                is_combo = False\n",
    "                for k in range(len(piece)-1):\n",
    "                    del piece[-1]\n",
    "                    if tuple(map(lambda w : w[1], piece)) in combos:\n",
    "                        pieces.append(piece)\n",
    "                        is_combo = True\n",
    "                        break\n",
    "                if not is_combo:\n",
    "                    pieces.append([piece[0]])\n",
    "    else:\n",
    "        pieces.append([(i,word)])\n",
    "\n",
    "# Put the pieces back together\n",
    "split_title2 = list(map(lambda p : \" \".join(tuple(map(lambda w : w[1], p))), pieces))\n",
    "print(f\"smarter combining propers: {split_title2}\\n\")\n",
    "\n",
    "# Next: combine non-proper nouns?"
   ]
  },
  {
   "cell_type": "markdown",
   "metadata": {},
   "source": [
    "### NLK (Natural Language Toolkit) Library "
   ]
  },
  {
   "cell_type": "code",
   "execution_count": 200,
   "metadata": {},
   "outputs": [
    {
     "name": "stderr",
     "output_type": "stream",
     "text": [
      "[nltk_data] Downloading package wordnet to /home/blake/nltk_data...\n",
      "[nltk_data]   Package wordnet is already up-to-date!\n"
     ]
    },
    {
     "data": {
      "text/plain": [
       "True"
      ]
     },
     "execution_count": 200,
     "metadata": {},
     "output_type": "execute_result"
    }
   ],
   "source": [
    "import nltk\n",
    "from nltk.corpus import wordnet as wn\n",
    "nltk.download('wordnet')"
   ]
  },
  {
   "cell_type": "code",
   "execution_count": 42,
   "metadata": {},
   "outputs": [
    {
     "name": "stdout",
     "output_type": "stream",
     "text": [
      "amazing:v\n",
      "interesting:v\n",
      "great:n\n",
      "blocks:n\n"
     ]
    }
   ],
   "source": [
    "# Identifying type of words\n",
    "words = ['amazing', 'interesting', 'great', 'blocks']\n",
    "\n",
    "for w in words:\n",
    "    tmp = wn.synsets(w)[0].pos()\n",
    "    print(w + \":\" + tmp)"
   ]
  },
  {
   "cell_type": "code",
   "execution_count": null,
   "metadata": {},
   "outputs": [],
   "source": []
  }
 ],
 "metadata": {
  "kernelspec": {
   "display_name": "Python 3.8.2 64-bit",
   "language": "python",
   "name": "python38264bit09ad96bb2f3f471a8dc4f669ef23c3db"
  },
  "language_info": {
   "codemirror_mode": {
    "name": "ipython",
    "version": 3
   },
   "file_extension": ".py",
   "mimetype": "text/x-python",
   "name": "python",
   "nbconvert_exporter": "python",
   "pygments_lexer": "ipython3",
   "version": "3.8.2"
  }
 },
 "nbformat": 4,
 "nbformat_minor": 4
}
