if cat_list:
    category_list = category_filtering(str(cat_list))
else:
    category_list = json.load(open('nutrients.json',))
if nutr_val:
    # print("Category List is: " + str(category_list))
    nutr_list = nutrients_filtering(category_list, nutr_val)
else:
    nutr_list = category_list
if query_desc:
    # print("Nutrient List is: " + str(nutr_list))
    desc_list = descrip_filtering(query_desc, nutr_list)
else:
    desc_list = nutr_list
# print("Description List is: " + str(desc_list))
# output
# for desc in desc_list: 
